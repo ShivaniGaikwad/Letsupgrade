{
 "cells": [
  {
   "cell_type": "markdown",
   "metadata": {},
   "source": [
    "# Question 1"
   ]
  },
  {
   "cell_type": "code",
   "execution_count": 16,
   "metadata": {},
   "outputs": [
    {
     "name": "stdout",
     "output_type": "stream",
     "text": [
      "Enter the email address : sahil@google.com\n",
      "google\n"
     ]
    }
   ],
   "source": [
    "import re\n",
    "email = input(\"Enter the email address : \")\n",
    "\n",
    "patt = \"(\\w+)@(\\w+)\\.(com)\"\n",
    "r2 = re.match(patt,email)\n",
    "print(r2.group(2))"
   ]
  },
  {
   "cell_type": "markdown",
   "metadata": {},
   "source": [
    "# Question 2"
   ]
  },
  {
   "cell_type": "code",
   "execution_count": 18,
   "metadata": {},
   "outputs": [
    {
     "name": "stdout",
     "output_type": "stream",
     "text": [
      "Enter comma separated sequence of words : red,green,blue,yellow\n",
      "blue,green,red,yellow\n"
     ]
    }
   ],
   "source": [
    "item = input(\"Enter comma separated sequence of words : \")\n",
    "words = [word for word in item.split(\",\")]\n",
    "print(\",\".join(sorted(list(words))))"
   ]
  },
  {
   "cell_type": "markdown",
   "metadata": {},
   "source": [
    "# Question 3\n"
   ]
  },
  {
   "cell_type": "code",
   "execution_count": 1,
   "metadata": {},
   "outputs": [],
   "source": [
    "## Notebook Created for sets"
   ]
  },
  {
   "cell_type": "markdown",
   "metadata": {},
   "source": [
    "# Question 4"
   ]
  },
  {
   "cell_type": "code",
   "execution_count": 6,
   "metadata": {},
   "outputs": [
    {
     "name": "stdout",
     "output_type": "stream",
     "text": [
      "Missing number is  3.0\n"
     ]
    }
   ],
   "source": [
    "def getMissingNo(num): \n",
    "    n = len(num) \n",
    "    total = (n + 1)*(n + 2)/2\n",
    "    sum_of_num = sum(num) \n",
    "    return total - sum_of_A \n",
    "  \n",
    "num = [1, 2, 4, 5, 6] \n",
    "miss = getMissingNo(num) \n",
    "print(\"Missing number is \",miss) "
   ]
  },
  {
   "cell_type": "markdown",
   "metadata": {},
   "source": [
    "# Question 5"
   ]
  },
  {
   "cell_type": "code",
   "execution_count": 13,
   "metadata": {},
   "outputs": [
    {
     "name": "stdout",
     "output_type": "stream",
     "text": [
      "[2, 3, 4, 5, 6]\n"
     ]
    }
   ],
   "source": [
    "def noduplicate(duplicate):\n",
    "    final = []\n",
    "    for num in duplicate:\n",
    "        if num not in final:\n",
    "            final.append(num)\n",
    "    return final\n",
    "\n",
    "duplicate = [2,2,3,3,4,5,6]\n",
    "print(noduplicate(duplicate))"
   ]
  },
  {
   "cell_type": "code",
   "execution_count": null,
   "metadata": {},
   "outputs": [],
   "source": []
  }
 ],
 "metadata": {
  "kernelspec": {
   "display_name": "Python 3",
   "language": "python",
   "name": "python3"
  },
  "language_info": {
   "codemirror_mode": {
    "name": "ipython",
    "version": 3
   },
   "file_extension": ".py",
   "mimetype": "text/x-python",
   "name": "python",
   "nbconvert_exporter": "python",
   "pygments_lexer": "ipython3",
   "version": "3.7.6"
  }
 },
 "nbformat": 4,
 "nbformat_minor": 4
}
