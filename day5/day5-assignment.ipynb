{
 "cells": [
  {
   "cell_type": "markdown",
   "metadata": {},
   "source": [
    "# Question 1\n",
    "### Write a python program to find first 20 non-even prime natural numbers"
   ]
  },
  {
   "cell_type": "code",
   "execution_count": 44,
   "metadata": {},
   "outputs": [
    {
     "name": "stdout",
     "output_type": "stream",
     "text": [
      "1\n",
      "3\n",
      "5\n",
      "7\n",
      "11\n",
      "13\n",
      "17\n",
      "19\n",
      "23\n",
      "29\n",
      "31\n",
      "37\n",
      "41\n",
      "43\n",
      "47\n",
      "53\n",
      "59\n",
      "61\n",
      "67\n",
      "71\n"
     ]
    }
   ],
   "source": [
    "   # First 20 non-even prime natural numbers\n",
    "\n",
    "cnt = 0\n",
    "i=1\n",
    "\n",
    "while cnt<20:\n",
    "    flag = True\n",
    "    for j in range(2,i):\n",
    "        if i%j==0:\n",
    "            flag = False\n",
    "            break\n",
    "    if flag:\n",
    "        if i%2!=0:\n",
    "            print(i)\n",
    "            cnt+=1\n",
    "    i+=2 # As we want only odd, we will jump from 1 to 3,then 3 to 5,7,9 and so on, (this will save time)\n"
   ]
  },
  {
   "cell_type": "markdown",
   "metadata": {},
   "source": [
    "# Question 2\n",
    "\n",
    "### Write a python program to implement 15 functions of string"
   ]
  },
  {
   "cell_type": "code",
   "execution_count": 40,
   "metadata": {},
   "outputs": [
    {
     "name": "stdout",
     "output_type": "stream",
     "text": [
      "1] Capitalize function :  My name is sahil\n",
      "2] Is Upper :  False\n",
      "3] Is Lower :  False\n",
      "4] Lower :  my name is sahil\n",
      "5] Upper :  MY NAME IS SAHIL\n",
      "6] Swapcase :  mY nAME IS sAHIL\n",
      "7] zfill :  0000000000000000000000000000000000My Name is Sahil\n",
      "8] Rjust :                                    My Name is Sahil\n",
      "9] Startswith :  True\n",
      "10] Rstrip :  My Name\n",
      "11] Split :  ['My', 'Name', 'is', 'Sahil']\n",
      "12] rfind :  9\n",
      "13] Partition :  ('My Name i', 's', ' Sahil')\n",
      "14] Replace :  My Name is Sahil jadhav\n",
      "15] isspace :  False\n"
     ]
    }
   ],
   "source": [
    "name = \"My Name is Sahil\"\n",
    "\n",
    "print(\"1] Capitalize function : \",name.capitalize())\n",
    "print(\"2] Is Upper : \",name.isupper())\n",
    "print(\"3] Is Lower : \",name.islower())\n",
    "print(\"4] Lower : \",name.lower())\n",
    "print(\"5] Upper : \",name.upper())\n",
    "print(\"6] Swapcase : \",name.swapcase())\n",
    "print(\"7] zfill : \",name.zfill(50))\n",
    "print(\"8] Rjust : \",name.rjust(50))\n",
    "print(\"9] Startswith : \",name.startswith(\"My\"))\n",
    "print(\"10] Rstrip : \",name.rstrip(\"is Sahil\"))\n",
    "print(\"11] Split : \",name.split(\" \"))\n",
    "print(\"12] rfind : \",name.rfind(\"s\"))\n",
    "print(\"13] Partition : \",name.partition(\"s\"))\n",
    "print(\"14] Replace : \",name.replace(\"Sahil\",\"Sahil jadhav\"))\n",
    "print(\"15] isspace : \",name.isspace())\n"
   ]
  },
  {
   "cell_type": "markdown",
   "metadata": {},
   "source": [
    "# Question 3"
   ]
  },
  {
   "cell_type": "markdown",
   "metadata": {},
   "source": [
    "### Write a python program to check whether the given string is palindrome or anagram or none of them"
   ]
  },
  {
   "cell_type": "code",
   "execution_count": null,
   "metadata": {},
   "outputs": [
    {
     "name": "stdout",
     "output_type": "stream",
     "text": [
      "********** case 1 **********\n",
      "Enter a String ==>> sahil\n",
      "Enter 2nd String to check Anagram ==>> nayan\n",
      "Not Anagram and Palindrome\n",
      "\n",
      " ********** case 2 **********\n"
     ]
    }
   ],
   "source": [
    "def isPalindrome(s):\n",
    "    s=s.lower()\n",
    "    if s == s[::-1]:\n",
    "        return True\n",
    "    return False\n",
    "\n",
    "def isAnagram(s1,s2):\n",
    "    s1=s1.lower()\n",
    "    s2=s2.lower()\n",
    "    if sorted(s1) == sorted(s2):\n",
    "        return True\n",
    "    return False\n",
    "\n",
    "def check_anagram_and_palindrome():\n",
    "    flag = True\n",
    "    s1 = input(\"Enter a String ==>> \")\n",
    "    if isPalindrome(s1):\n",
    "        print(s1,\"is Palindrome\")\n",
    "        flag=False\n",
    "\n",
    "    s2 = input(\"Enter 2nd String to check Anagram ==>> \")\n",
    "    if isAnagram(s1,s2):\n",
    "        print(s1,\"and\",s2,\"Are Anagram\")\n",
    "        flag=False\n",
    "\n",
    "    if flag:\n",
    "        print(\"Not Anagram and Palindrome\")\n",
    "        \n",
    "\n",
    "#Case 1: Both Anagram and Palindrome\n",
    "print(\"*\"*10,\"case 1\",\"*\"*10)\n",
    "check_anagram_and_palindrome()\n",
    "\n",
    "#Case 2: none of them\n",
    "print(\"\\n\",\"*\"*10,\"case 2\",\"*\"*10)\n",
    "check_anagram_and_palindrome()        "
   ]
  },
  {
   "cell_type": "markdown",
   "metadata": {},
   "source": [
    "# Question 4"
   ]
  },
  {
   "cell_type": "code",
   "execution_count": 1,
   "metadata": {},
   "outputs": [
    {
     "name": "stdout",
     "output_type": "stream",
     "text": [
      "jadhavsahil06gmailcom\n"
     ]
    }
   ],
   "source": [
    "str = \"##jadhavsahil06@gmail.com\"\n",
    "\n",
    "res =\"\"\n",
    "for i in str:\n",
    "    if i.isalnum() or i == \" \":\n",
    "        res+=i\n",
    "        \n",
    "print(res)\n"
   ]
  },
  {
   "cell_type": "code",
   "execution_count": null,
   "metadata": {},
   "outputs": [],
   "source": []
  }
 ],
 "metadata": {
  "kernelspec": {
   "display_name": "Python 3",
   "language": "python",
   "name": "python3"
  },
  "language_info": {
   "codemirror_mode": {
    "name": "ipython",
    "version": 3
   },
   "file_extension": ".py",
   "mimetype": "text/x-python",
   "name": "python",
   "nbconvert_exporter": "python",
   "pygments_lexer": "ipython3",
   "version": "3.7.6"
  }
 },
 "nbformat": 4,
 "nbformat_minor": 4
}
