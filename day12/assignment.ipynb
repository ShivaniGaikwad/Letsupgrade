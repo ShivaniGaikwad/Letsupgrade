{
 "cells": [
  {
   "cell_type": "code",
   "execution_count": 14,
   "metadata": {},
   "outputs": [],
   "source": [
    "import pandas as pd\n",
    "import numpy as np\n",
    "import matplotlib.pyplot as plt\n",
    "\n",
    "df = pd.read_csv(\"general_data.csv\")\n"
   ]
  },
  {
   "cell_type": "code",
   "execution_count": 18,
   "metadata": {},
   "outputs": [],
   "source": [
    "df = df.dropna()"
   ]
  },
  {
   "cell_type": "code",
   "execution_count": 34,
   "metadata": {},
   "outputs": [],
   "source": [
    "df = df.drop_duplicates()"
   ]
  },
  {
   "cell_type": "code",
   "execution_count": 42,
   "metadata": {},
   "outputs": [],
   "source": [
    "from sklearn.preprocessing import LabelEncoder\n",
    "le = LabelEncoder()\n",
    "df.Attrition = le.fit_transform(df.Attrition)\n",
    "df.BusinessTravel = le.fit_transform(df.BusinessTravel)\n",
    "df.Department = le.fit_transform(df.Department)\n",
    "df.EducationField = le.fit_transform(df.EducationField)\n",
    "df.Gender = le.fit_transform(df.Gender)\n",
    "df.JobRole = le.fit_transform(df.JobRole)\n",
    "df.Over18 = le.fit_transform(df.Over18)\n",
    "df.MaritalStatus = le.fit_transform(df.MaritalStatus)\n"
   ]
  },
  {
   "cell_type": "code",
   "execution_count": 43,
   "metadata": {},
   "outputs": [
    {
     "data": {
      "text/html": [
       "<div>\n",
       "<style scoped>\n",
       "    .dataframe tbody tr th:only-of-type {\n",
       "        vertical-align: middle;\n",
       "    }\n",
       "\n",
       "    .dataframe tbody tr th {\n",
       "        vertical-align: top;\n",
       "    }\n",
       "\n",
       "    .dataframe thead th {\n",
       "        text-align: right;\n",
       "    }\n",
       "</style>\n",
       "<table border=\"1\" class=\"dataframe\">\n",
       "  <thead>\n",
       "    <tr style=\"text-align: right;\">\n",
       "      <th></th>\n",
       "      <th>Age</th>\n",
       "      <th>Attrition</th>\n",
       "      <th>BusinessTravel</th>\n",
       "      <th>Department</th>\n",
       "      <th>DistanceFromHome</th>\n",
       "      <th>Education</th>\n",
       "      <th>EducationField</th>\n",
       "      <th>EmployeeCount</th>\n",
       "      <th>EmployeeID</th>\n",
       "      <th>Gender</th>\n",
       "      <th>...</th>\n",
       "      <th>NumCompaniesWorked</th>\n",
       "      <th>Over18</th>\n",
       "      <th>PercentSalaryHike</th>\n",
       "      <th>StandardHours</th>\n",
       "      <th>StockOptionLevel</th>\n",
       "      <th>TotalWorkingYears</th>\n",
       "      <th>TrainingTimesLastYear</th>\n",
       "      <th>YearsAtCompany</th>\n",
       "      <th>YearsSinceLastPromotion</th>\n",
       "      <th>YearsWithCurrManager</th>\n",
       "    </tr>\n",
       "  </thead>\n",
       "  <tbody>\n",
       "    <tr>\n",
       "      <th>1</th>\n",
       "      <td>31</td>\n",
       "      <td>1</td>\n",
       "      <td>1</td>\n",
       "      <td>1</td>\n",
       "      <td>10</td>\n",
       "      <td>1</td>\n",
       "      <td>1</td>\n",
       "      <td>1</td>\n",
       "      <td>2</td>\n",
       "      <td>0</td>\n",
       "      <td>...</td>\n",
       "      <td>0.0</td>\n",
       "      <td>0</td>\n",
       "      <td>23</td>\n",
       "      <td>8</td>\n",
       "      <td>1</td>\n",
       "      <td>6.0</td>\n",
       "      <td>3</td>\n",
       "      <td>5</td>\n",
       "      <td>1</td>\n",
       "      <td>4</td>\n",
       "    </tr>\n",
       "    <tr>\n",
       "      <th>6</th>\n",
       "      <td>28</td>\n",
       "      <td>1</td>\n",
       "      <td>2</td>\n",
       "      <td>1</td>\n",
       "      <td>11</td>\n",
       "      <td>2</td>\n",
       "      <td>3</td>\n",
       "      <td>1</td>\n",
       "      <td>7</td>\n",
       "      <td>1</td>\n",
       "      <td>...</td>\n",
       "      <td>2.0</td>\n",
       "      <td>0</td>\n",
       "      <td>20</td>\n",
       "      <td>8</td>\n",
       "      <td>1</td>\n",
       "      <td>5.0</td>\n",
       "      <td>2</td>\n",
       "      <td>0</td>\n",
       "      <td>0</td>\n",
       "      <td>0</td>\n",
       "    </tr>\n",
       "    <tr>\n",
       "      <th>13</th>\n",
       "      <td>47</td>\n",
       "      <td>1</td>\n",
       "      <td>0</td>\n",
       "      <td>1</td>\n",
       "      <td>1</td>\n",
       "      <td>1</td>\n",
       "      <td>3</td>\n",
       "      <td>1</td>\n",
       "      <td>14</td>\n",
       "      <td>1</td>\n",
       "      <td>...</td>\n",
       "      <td>1.0</td>\n",
       "      <td>0</td>\n",
       "      <td>11</td>\n",
       "      <td>8</td>\n",
       "      <td>2</td>\n",
       "      <td>10.0</td>\n",
       "      <td>4</td>\n",
       "      <td>10</td>\n",
       "      <td>9</td>\n",
       "      <td>9</td>\n",
       "    </tr>\n",
       "    <tr>\n",
       "      <th>28</th>\n",
       "      <td>44</td>\n",
       "      <td>1</td>\n",
       "      <td>1</td>\n",
       "      <td>1</td>\n",
       "      <td>1</td>\n",
       "      <td>2</td>\n",
       "      <td>3</td>\n",
       "      <td>1</td>\n",
       "      <td>29</td>\n",
       "      <td>1</td>\n",
       "      <td>...</td>\n",
       "      <td>3.0</td>\n",
       "      <td>0</td>\n",
       "      <td>14</td>\n",
       "      <td>8</td>\n",
       "      <td>1</td>\n",
       "      <td>19.0</td>\n",
       "      <td>2</td>\n",
       "      <td>1</td>\n",
       "      <td>0</td>\n",
       "      <td>0</td>\n",
       "    </tr>\n",
       "    <tr>\n",
       "      <th>30</th>\n",
       "      <td>26</td>\n",
       "      <td>1</td>\n",
       "      <td>2</td>\n",
       "      <td>1</td>\n",
       "      <td>4</td>\n",
       "      <td>3</td>\n",
       "      <td>3</td>\n",
       "      <td>1</td>\n",
       "      <td>31</td>\n",
       "      <td>1</td>\n",
       "      <td>...</td>\n",
       "      <td>2.0</td>\n",
       "      <td>0</td>\n",
       "      <td>11</td>\n",
       "      <td>8</td>\n",
       "      <td>0</td>\n",
       "      <td>5.0</td>\n",
       "      <td>5</td>\n",
       "      <td>3</td>\n",
       "      <td>0</td>\n",
       "      <td>2</td>\n",
       "    </tr>\n",
       "  </tbody>\n",
       "</table>\n",
       "<p>5 rows × 24 columns</p>\n",
       "</div>"
      ],
      "text/plain": [
       "    Age  Attrition  BusinessTravel  Department  DistanceFromHome  Education  \\\n",
       "1    31          1               1           1                10          1   \n",
       "6    28          1               2           1                11          2   \n",
       "13   47          1               0           1                 1          1   \n",
       "28   44          1               1           1                 1          2   \n",
       "30   26          1               2           1                 4          3   \n",
       "\n",
       "    EducationField  EmployeeCount  EmployeeID  Gender  ...  \\\n",
       "1                1              1           2       0  ...   \n",
       "6                3              1           7       1  ...   \n",
       "13               3              1          14       1  ...   \n",
       "28               3              1          29       1  ...   \n",
       "30               3              1          31       1  ...   \n",
       "\n",
       "    NumCompaniesWorked  Over18  PercentSalaryHike  StandardHours  \\\n",
       "1                  0.0       0                 23              8   \n",
       "6                  2.0       0                 20              8   \n",
       "13                 1.0       0                 11              8   \n",
       "28                 3.0       0                 14              8   \n",
       "30                 2.0       0                 11              8   \n",
       "\n",
       "    StockOptionLevel  TotalWorkingYears  TrainingTimesLastYear  \\\n",
       "1                  1                6.0                      3   \n",
       "6                  1                5.0                      2   \n",
       "13                 2               10.0                      4   \n",
       "28                 1               19.0                      2   \n",
       "30                 0                5.0                      5   \n",
       "\n",
       "    YearsAtCompany  YearsSinceLastPromotion  YearsWithCurrManager  \n",
       "1                5                        1                     4  \n",
       "6                0                        0                     0  \n",
       "13              10                        9                     9  \n",
       "28               1                        0                     0  \n",
       "30               3                        0                     2  \n",
       "\n",
       "[5 rows x 24 columns]"
      ]
     },
     "execution_count": 43,
     "metadata": {},
     "output_type": "execute_result"
    }
   ],
   "source": [
    "df_yes = df[df[\"Attrition\"]==1]\n",
    "df_yes.head()"
   ]
  },
  {
   "cell_type": "markdown",
   "metadata": {},
   "source": [
    "# To Check Whether the data is in Normal form or not\n",
    "## 1] By Kurtosis"
   ]
  },
  {
   "cell_type": "code",
   "execution_count": 44,
   "metadata": {},
   "outputs": [
    {
     "data": {
      "text/plain": [
       "Age                       -0.073388\n",
       "Attrition                  0.000000\n",
       "BusinessTravel             0.438714\n",
       "Department                -0.267949\n",
       "DistanceFromHome          -0.050913\n",
       "Education                 -0.632511\n",
       "EducationField            -0.497252\n",
       "EmployeeCount              0.000000\n",
       "EmployeeID                -1.211662\n",
       "Gender                    -1.760090\n",
       "JobLevel                   0.624243\n",
       "JobRole                   -1.094531\n",
       "MaritalStatus             -0.798683\n",
       "MonthlyIncome              1.636083\n",
       "NumCompaniesWorked        -0.552946\n",
       "Over18                     0.000000\n",
       "PercentSalaryHike         -0.432517\n",
       "StandardHours              0.000000\n",
       "StockOptionLevel           0.245353\n",
       "TotalWorkingYears          3.673837\n",
       "TrainingTimesLastYear      0.964115\n",
       "YearsAtCompany             9.366724\n",
       "YearsSinceLastPromotion    4.711054\n",
       "YearsWithCurrManager       0.219179\n",
       "dtype: float64"
      ]
     },
     "execution_count": 44,
     "metadata": {},
     "output_type": "execute_result"
    }
   ],
   "source": [
    "df_yes.kurt()"
   ]
  },
  {
   "cell_type": "markdown",
   "metadata": {},
   "source": [
    "## 2] By Skewness"
   ]
  },
  {
   "cell_type": "code",
   "execution_count": 45,
   "metadata": {},
   "outputs": [
    {
     "data": {
      "text/plain": [
       "Age                        0.714479\n",
       "Attrition                  0.000000\n",
       "BusinessTravel            -1.201873\n",
       "Department                -0.004108\n",
       "DistanceFromHome           0.957983\n",
       "Education                 -0.217029\n",
       "EducationField             0.570440\n",
       "EmployeeCount              0.000000\n",
       "EmployeeID                 0.001186\n",
       "Gender                    -0.494885\n",
       "JobLevel                   1.053776\n",
       "JobRole                   -0.484378\n",
       "MaritalStatus             -0.668578\n",
       "MonthlyIncome              1.536183\n",
       "NumCompaniesWorked         0.864889\n",
       "Over18                     0.000000\n",
       "PercentSalaryHike          0.760011\n",
       "StandardHours              0.000000\n",
       "StockOptionLevel           0.956491\n",
       "TotalWorkingYears          1.674396\n",
       "TrainingTimesLastYear      0.416718\n",
       "YearsAtCompany             2.659829\n",
       "YearsSinceLastPromotion    2.195541\n",
       "YearsWithCurrManager       1.017582\n",
       "dtype: float64"
      ]
     },
     "execution_count": 45,
     "metadata": {},
     "output_type": "execute_result"
    }
   ],
   "source": [
    "df_yes.skew()"
   ]
  },
  {
   "cell_type": "code",
   "execution_count": null,
   "metadata": {},
   "outputs": [],
   "source": []
  },
  {
   "cell_type": "markdown",
   "metadata": {},
   "source": [
    "# By Above values we can say that :-\n",
    "   \n",
    "   ## 1] Values which are Normally Distributed are ==>\n",
    "   ###            a) EmployeeCount\n",
    "   ###            b) StandardHours\n",
    "  #     So We will perform Parametric Tests on this\n",
    "   \n",
    "   ## 2] Values which are not Normally Distributed ==>\n",
    "   ###            a )Age          \n",
    "   ###            b) DistanceFromHome          \n",
    "   ###            c)Education                \n",
    "   ###            d)EmployeeID                \n",
    "   ###            e)JobLevel                  \n",
    "   ###            f)MonthlyIncome             \n",
    "   ###            g)NumCompaniesWorked        \n",
    "   ###            h)PercentSalaryHike         \n",
    "   ###            i)StockOptionLevel          \n",
    "   ###            j)TotalWorkingYears         \n",
    "   ###            k)TrainingTimesLastYear     \n",
    "   ###            l)YearsAtCompany             \n",
    "   ###            m)YearsSinceLastPromotion  \n",
    "   ###            n)YearsWithCurrManager       \n",
    "   #      So We will perform Non-Parametric Tests on this"
   ]
  },
  {
   "cell_type": "code",
   "execution_count": null,
   "metadata": {},
   "outputs": [],
   "source": []
  },
  {
   "cell_type": "markdown",
   "metadata": {},
   "source": [
    "# Parametric tests"
   ]
  },
  {
   "cell_type": "markdown",
   "metadata": {},
   "source": [
    "## Two Sample Independent t-test"
   ]
  },
  {
   "cell_type": "code",
   "execution_count": 46,
   "metadata": {},
   "outputs": [],
   "source": [
    "from scipy.stats import ttest_ind"
   ]
  },
  {
   "cell_type": "markdown",
   "metadata": {},
   "source": [
    "### Attrition and Standard Hours\n",
    "#### H0 = Their is no dependency between Attrition and Standard hours\n",
    "#### H1 = Their is dependency between Attrition and Standard Hours"
   ]
  },
  {
   "cell_type": "code",
   "execution_count": 55,
   "metadata": {},
   "outputs": [
    {
     "name": "stdout",
     "output_type": "stream",
     "text": [
      "Statistical Value =  -inf \n",
      "P-Value =  0.0\n",
      "Their is dependency between Attrition and Standard Hours\n"
     ]
    }
   ],
   "source": [
    "H0 = \"Their is no dependency between Attrition and Standard hours\"\n",
    "H1 = \"Their is dependency between Attrition and Standard Hours\"\n",
    "a=df_yes.Attrition\n",
    "b=df_yes.StandardHours \n",
    "stats,p = ttest_ind(a,b)\n",
    "print(\"Statistical Value = \",stats,\"\\nP-Value = \",p)\n",
    "\n",
    "if p<0.05:\n",
    "    print(H1)\n",
    "else:\n",
    "    print(H0)"
   ]
  },
  {
   "cell_type": "code",
   "execution_count": null,
   "metadata": {},
   "outputs": [],
   "source": []
  },
  {
   "cell_type": "markdown",
   "metadata": {},
   "source": [
    "##  Man Whitney test"
   ]
  },
  {
   "cell_type": "code",
   "execution_count": 57,
   "metadata": {},
   "outputs": [],
   "source": [
    "from scipy.stats import mannwhitneyu"
   ]
  },
  {
   "cell_type": "markdown",
   "metadata": {},
   "source": [
    "### a) Age and Attrition"
   ]
  },
  {
   "cell_type": "code",
   "execution_count": 60,
   "metadata": {},
   "outputs": [
    {
     "name": "stdout",
     "output_type": "stream",
     "text": [
      "Statistical Value =  0.0 \n",
      "P-Value =  5.48533400431717e-265\n",
      "Their is Significant Difference between Attrition and Age\n"
     ]
    }
   ],
   "source": [
    "H0 = \"Their is no Significant Difference between Attrition and Age\"\n",
    "H1 = \"Their is Significant Difference between Attrition and Age\"\n",
    "a=df_yes.Age\n",
    "b=df_yes.Attrition\n",
    "stats,p = mannwhitneyu(a,b)\n",
    "print(\"Statistical Value = \",stats,\"\\nP-Value = \",p)\n",
    "\n",
    "if p<0.05:\n",
    "    print(H1)\n",
    "else:\n",
    "    print(H0)"
   ]
  },
  {
   "cell_type": "markdown",
   "metadata": {},
   "source": [
    "### b) Department and Attrition"
   ]
  },
  {
   "cell_type": "code",
   "execution_count": 61,
   "metadata": {},
   "outputs": [
    {
     "name": "stdout",
     "output_type": "stream",
     "text": [
      "Statistical Value =  197047.5 \n",
      "P-Value =  4.6532408971109554e-24\n",
      "Their is Significant Difference between Attrition and Department\n"
     ]
    }
   ],
   "source": [
    "H0 = \"Their is no Significant Difference between Attrition and Department\"\n",
    "H1 = \"Their is Significant Difference between Attrition and Department\"\n",
    "a=df_yes.Department\n",
    "b=df_yes.Attrition\n",
    "stats,p = mannwhitneyu(a,b)\n",
    "print(\"Statistical Value = \",stats,\"\\nP-Value = \",p)\n",
    "\n",
    "if p<0.05:\n",
    "    print(H1)\n",
    "else:\n",
    "    print(H0)"
   ]
  },
  {
   "cell_type": "markdown",
   "metadata": {},
   "source": [
    "# Two Sample Independent Test"
   ]
  },
  {
   "cell_type": "markdown",
   "metadata": {},
   "source": [
    "### c) Distance From Home and Attrition"
   ]
  },
  {
   "cell_type": "code",
   "execution_count": 63,
   "metadata": {},
   "outputs": [
    {
     "name": "stdout",
     "output_type": "stream",
     "text": [
      "Statistical Value =  27.472583163146876 \n",
      "P-Value =  2.130224070344394e-133\n",
      "Their is Significant Difference between Attrition and Distance From Home\n"
     ]
    }
   ],
   "source": [
    "H0 = \"Their is no Significant Difference between Attrition and  Distance From Home\"\n",
    "H1 = \"Their is Significant Difference between Attrition and Distance From Home\"\n",
    "a=df_yes.DistanceFromHome\n",
    "b=df_yes.Attrition\n",
    "stats,p = ttest_ind(a,b)\n",
    "print(\"Statistical Value = \",stats,\"\\nP-Value = \",p)\n",
    "\n",
    "if p<0.05:\n",
    "    print(H1)\n",
    "else:\n",
    "    print(H0)"
   ]
  },
  {
   "cell_type": "markdown",
   "metadata": {},
   "source": [
    "### d) Education Field and Attrition"
   ]
  },
  {
   "cell_type": "code",
   "execution_count": 65,
   "metadata": {},
   "outputs": [
    {
     "name": "stdout",
     "output_type": "stream",
     "text": [
      "Statistical Value =  22.094967201411087 \n",
      "P-Value =  4.065942322901153e-93\n",
      "Their is Significant Difference between Attrition and Education Field From Home\n"
     ]
    }
   ],
   "source": [
    "H0 = \"Their is no Significant Difference between Attrition and  Education Field From Home\"\n",
    "H1 = \"Their is Significant Difference between Attrition and Education Field From Home\"\n",
    "a=df_yes.EducationField\n",
    "b=df_yes.Attrition\n",
    "stats,p = ttest_ind(a,b)\n",
    "print(\"Statistical Value = \",stats,\"\\nP-Value = \",p)\n",
    "\n",
    "if p<0.05:\n",
    "    print(H1)\n",
    "else:\n",
    "    print(H0)"
   ]
  },
  {
   "cell_type": "markdown",
   "metadata": {},
   "source": [
    "## Chi Square Test"
   ]
  },
  {
   "cell_type": "code",
   "execution_count": 66,
   "metadata": {},
   "outputs": [],
   "source": [
    "from scipy.stats import chi2_contingency"
   ]
  },
  {
   "cell_type": "code",
   "execution_count": 71,
   "metadata": {},
   "outputs": [],
   "source": [
    "H0 = \" Attrition and Educational Field Are not dependent on each other\"\n",
    "H1 = \" Attrition and Educational Field Are  dependent on each other\"\n",
    "chitable = pd.crosstab(df_yes.Attrition,df_yes.EducationField)"
   ]
  },
  {
   "cell_type": "code",
   "execution_count": 72,
   "metadata": {},
   "outputs": [
    {
     "name": "stdout",
     "output_type": "stream",
     "text": [
      "EducationField   0    1   2    3   4   5\n",
      "Attrition                               \n",
      "1               32  301  75  222  30  45\n"
     ]
    }
   ],
   "source": [
    "print(chitable)"
   ]
  },
  {
   "cell_type": "code",
   "execution_count": 73,
   "metadata": {},
   "outputs": [],
   "source": [
    "stats,p,dof,expected = chi2_contingency(chitable)"
   ]
  },
  {
   "cell_type": "code",
   "execution_count": 74,
   "metadata": {},
   "outputs": [
    {
     "name": "stdout",
     "output_type": "stream",
     "text": [
      "Statistical Value =  0.0 \n",
      "P-Value =  1.0\n",
      " Attrition and Educational Field Are not dependent on each other\n"
     ]
    }
   ],
   "source": [
    "print(\"Statistical Value = \",stats,\"\\nP-Value = \",p)\n",
    "\n",
    "if p<0.05:\n",
    "    print(H1)\n",
    "else:\n",
    "    print(H0)"
   ]
  },
  {
   "cell_type": "markdown",
   "metadata": {},
   "source": [
    "### e) Gender and Attrition"
   ]
  },
  {
   "cell_type": "code",
   "execution_count": 75,
   "metadata": {},
   "outputs": [
    {
     "name": "stdout",
     "output_type": "stream",
     "text": [
      "Gender       0    1\n",
      "Attrition          \n",
      "1          268  437\n"
     ]
    }
   ],
   "source": [
    "H0 = \" Attrition and Gender Are not dependent on each other\"\n",
    "H1 = \" Attrition and Gender Are  dependent on each other\"\n",
    "chitable = pd.crosstab(df_yes.Attrition,df_yes.Gender)\n",
    "print(chitable)"
   ]
  },
  {
   "cell_type": "code",
   "execution_count": 77,
   "metadata": {},
   "outputs": [],
   "source": [
    "stats,p,dof,expected = chi2_contingency(chitable)"
   ]
  },
  {
   "cell_type": "code",
   "execution_count": 78,
   "metadata": {},
   "outputs": [
    {
     "name": "stdout",
     "output_type": "stream",
     "text": [
      "Statistical Value =  0.0 \n",
      "P-Value =  1.0\n",
      " Attrition and Gender Are not dependent on each other\n"
     ]
    }
   ],
   "source": [
    "print(\"Statistical Value = \",stats,\"\\nP-Value = \",p)\n",
    "\n",
    "if p<0.05:\n",
    "    print(H1)\n",
    "else:\n",
    "    print(H0)"
   ]
  },
  {
   "cell_type": "code",
   "execution_count": 85,
   "metadata": {},
   "outputs": [],
   "source": [
    "df_no = df[df[\"Attrition\"]==0]"
   ]
  },
  {
   "cell_type": "code",
   "execution_count": 86,
   "metadata": {},
   "outputs": [
    {
     "data": {
      "text/html": [
       "<div>\n",
       "<style scoped>\n",
       "    .dataframe tbody tr th:only-of-type {\n",
       "        vertical-align: middle;\n",
       "    }\n",
       "\n",
       "    .dataframe tbody tr th {\n",
       "        vertical-align: top;\n",
       "    }\n",
       "\n",
       "    .dataframe thead th {\n",
       "        text-align: right;\n",
       "    }\n",
       "</style>\n",
       "<table border=\"1\" class=\"dataframe\">\n",
       "  <thead>\n",
       "    <tr style=\"text-align: right;\">\n",
       "      <th></th>\n",
       "      <th>Age</th>\n",
       "      <th>Attrition</th>\n",
       "      <th>BusinessTravel</th>\n",
       "      <th>Department</th>\n",
       "      <th>DistanceFromHome</th>\n",
       "      <th>Education</th>\n",
       "      <th>EducationField</th>\n",
       "      <th>EmployeeCount</th>\n",
       "      <th>EmployeeID</th>\n",
       "      <th>Gender</th>\n",
       "      <th>...</th>\n",
       "      <th>NumCompaniesWorked</th>\n",
       "      <th>Over18</th>\n",
       "      <th>PercentSalaryHike</th>\n",
       "      <th>StandardHours</th>\n",
       "      <th>StockOptionLevel</th>\n",
       "      <th>TotalWorkingYears</th>\n",
       "      <th>TrainingTimesLastYear</th>\n",
       "      <th>YearsAtCompany</th>\n",
       "      <th>YearsSinceLastPromotion</th>\n",
       "      <th>YearsWithCurrManager</th>\n",
       "    </tr>\n",
       "  </thead>\n",
       "  <tbody>\n",
       "    <tr>\n",
       "      <th>0</th>\n",
       "      <td>51</td>\n",
       "      <td>0</td>\n",
       "      <td>2</td>\n",
       "      <td>2</td>\n",
       "      <td>6</td>\n",
       "      <td>2</td>\n",
       "      <td>1</td>\n",
       "      <td>1</td>\n",
       "      <td>1</td>\n",
       "      <td>0</td>\n",
       "      <td>...</td>\n",
       "      <td>1.0</td>\n",
       "      <td>0</td>\n",
       "      <td>11</td>\n",
       "      <td>8</td>\n",
       "      <td>0</td>\n",
       "      <td>1.0</td>\n",
       "      <td>6</td>\n",
       "      <td>1</td>\n",
       "      <td>0</td>\n",
       "      <td>0</td>\n",
       "    </tr>\n",
       "    <tr>\n",
       "      <th>2</th>\n",
       "      <td>32</td>\n",
       "      <td>0</td>\n",
       "      <td>1</td>\n",
       "      <td>1</td>\n",
       "      <td>17</td>\n",
       "      <td>4</td>\n",
       "      <td>4</td>\n",
       "      <td>1</td>\n",
       "      <td>3</td>\n",
       "      <td>1</td>\n",
       "      <td>...</td>\n",
       "      <td>1.0</td>\n",
       "      <td>0</td>\n",
       "      <td>15</td>\n",
       "      <td>8</td>\n",
       "      <td>3</td>\n",
       "      <td>5.0</td>\n",
       "      <td>2</td>\n",
       "      <td>5</td>\n",
       "      <td>0</td>\n",
       "      <td>3</td>\n",
       "    </tr>\n",
       "    <tr>\n",
       "      <th>3</th>\n",
       "      <td>38</td>\n",
       "      <td>0</td>\n",
       "      <td>0</td>\n",
       "      <td>1</td>\n",
       "      <td>2</td>\n",
       "      <td>5</td>\n",
       "      <td>1</td>\n",
       "      <td>1</td>\n",
       "      <td>4</td>\n",
       "      <td>1</td>\n",
       "      <td>...</td>\n",
       "      <td>3.0</td>\n",
       "      <td>0</td>\n",
       "      <td>11</td>\n",
       "      <td>8</td>\n",
       "      <td>3</td>\n",
       "      <td>13.0</td>\n",
       "      <td>5</td>\n",
       "      <td>8</td>\n",
       "      <td>7</td>\n",
       "      <td>5</td>\n",
       "    </tr>\n",
       "    <tr>\n",
       "      <th>4</th>\n",
       "      <td>32</td>\n",
       "      <td>0</td>\n",
       "      <td>2</td>\n",
       "      <td>1</td>\n",
       "      <td>10</td>\n",
       "      <td>1</td>\n",
       "      <td>3</td>\n",
       "      <td>1</td>\n",
       "      <td>5</td>\n",
       "      <td>1</td>\n",
       "      <td>...</td>\n",
       "      <td>4.0</td>\n",
       "      <td>0</td>\n",
       "      <td>12</td>\n",
       "      <td>8</td>\n",
       "      <td>2</td>\n",
       "      <td>9.0</td>\n",
       "      <td>2</td>\n",
       "      <td>6</td>\n",
       "      <td>0</td>\n",
       "      <td>4</td>\n",
       "    </tr>\n",
       "    <tr>\n",
       "      <th>5</th>\n",
       "      <td>46</td>\n",
       "      <td>0</td>\n",
       "      <td>2</td>\n",
       "      <td>1</td>\n",
       "      <td>8</td>\n",
       "      <td>3</td>\n",
       "      <td>1</td>\n",
       "      <td>1</td>\n",
       "      <td>6</td>\n",
       "      <td>0</td>\n",
       "      <td>...</td>\n",
       "      <td>3.0</td>\n",
       "      <td>0</td>\n",
       "      <td>13</td>\n",
       "      <td>8</td>\n",
       "      <td>0</td>\n",
       "      <td>28.0</td>\n",
       "      <td>5</td>\n",
       "      <td>7</td>\n",
       "      <td>7</td>\n",
       "      <td>7</td>\n",
       "    </tr>\n",
       "  </tbody>\n",
       "</table>\n",
       "<p>5 rows × 24 columns</p>\n",
       "</div>"
      ],
      "text/plain": [
       "   Age  Attrition  BusinessTravel  Department  DistanceFromHome  Education  \\\n",
       "0   51          0               2           2                 6          2   \n",
       "2   32          0               1           1                17          4   \n",
       "3   38          0               0           1                 2          5   \n",
       "4   32          0               2           1                10          1   \n",
       "5   46          0               2           1                 8          3   \n",
       "\n",
       "   EducationField  EmployeeCount  EmployeeID  Gender  ...  NumCompaniesWorked  \\\n",
       "0               1              1           1       0  ...                 1.0   \n",
       "2               4              1           3       1  ...                 1.0   \n",
       "3               1              1           4       1  ...                 3.0   \n",
       "4               3              1           5       1  ...                 4.0   \n",
       "5               1              1           6       0  ...                 3.0   \n",
       "\n",
       "   Over18  PercentSalaryHike  StandardHours  StockOptionLevel  \\\n",
       "0       0                 11              8                 0   \n",
       "2       0                 15              8                 3   \n",
       "3       0                 11              8                 3   \n",
       "4       0                 12              8                 2   \n",
       "5       0                 13              8                 0   \n",
       "\n",
       "   TotalWorkingYears  TrainingTimesLastYear  YearsAtCompany  \\\n",
       "0                1.0                      6               1   \n",
       "2                5.0                      2               5   \n",
       "3               13.0                      5               8   \n",
       "4                9.0                      2               6   \n",
       "5               28.0                      5               7   \n",
       "\n",
       "   YearsSinceLastPromotion  YearsWithCurrManager  \n",
       "0                        0                     0  \n",
       "2                        0                     3  \n",
       "3                        7                     5  \n",
       "4                        0                     4  \n",
       "5                        7                     7  \n",
       "\n",
       "[5 rows x 24 columns]"
      ]
     },
     "execution_count": 86,
     "metadata": {},
     "output_type": "execute_result"
    }
   ],
   "source": [
    "df_no.head()"
   ]
  },
  {
   "cell_type": "code",
   "execution_count": null,
   "metadata": {},
   "outputs": [],
   "source": []
  },
  {
   "cell_type": "markdown",
   "metadata": {},
   "source": [
    "# Kruskal Wallis Test"
   ]
  },
  {
   "cell_type": "code",
   "execution_count": 93,
   "metadata": {},
   "outputs": [],
   "source": [
    "from scipy.stats import kruskal\n",
    "\n",
    "H0 = \"Their is no Significant Difference between Attrition , Age and Education\"\n",
    "H1 = \"Their is Significant Difference between  Attrition , Age and Education\"\n"
   ]
  },
  {
   "cell_type": "code",
   "execution_count": 94,
   "metadata": {},
   "outputs": [
    {
     "name": "stdout",
     "output_type": "stream",
     "text": [
      "Statistical Value =  1882.2251636186527 \n",
      "P-Value =  0.0\n",
      "Their is Significant Difference between  Attrition , Age and Education\n"
     ]
    }
   ],
   "source": [
    "stats,p= kruskal(df_yes.Age,df_yes.Attrition,df_yes.Education)\n",
    "print(\"Statistical Value = \",stats,\"\\nP-Value = \",p)\n",
    "if p<0.05:\n",
    "    print(H1)\n",
    "else:\n",
    "    print(H0)"
   ]
  },
  {
   "cell_type": "code",
   "execution_count": null,
   "metadata": {},
   "outputs": [],
   "source": []
  }
 ],
 "metadata": {
  "kernelspec": {
   "display_name": "Python 3",
   "language": "python",
   "name": "python3"
  },
  "language_info": {
   "codemirror_mode": {
    "name": "ipython",
    "version": 3
   },
   "file_extension": ".py",
   "mimetype": "text/x-python",
   "name": "python",
   "nbconvert_exporter": "python",
   "pygments_lexer": "ipython3",
   "version": "3.7.6"
  }
 },
 "nbformat": 4,
 "nbformat_minor": 4
}
