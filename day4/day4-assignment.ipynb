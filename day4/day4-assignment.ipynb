{
 "cells": [
  {
   "cell_type": "markdown",
   "metadata": {},
   "source": [
    "# 1 :Research on whether addition, subtraction, multiplication, division, floor division and module operations be performed on complex numbers. Based on your study, implement a Python program to demonstrate these operations.¶"
   ]
  },
  {
   "cell_type": "code",
   "execution_count": 6,
   "metadata": {},
   "outputs": [
    {
     "name": "stdout",
     "output_type": "stream",
     "text": [
      "Addition of (5+10j) and (10+20j) complex numbers :  (15+30j)\n",
      "Subtraction of (5+10j) and (10+20j) complex numbers :  (-5-10j)\n",
      "Multiplication of (5+10j) and (10+20j) complex numbers :  (-150+200j)\n",
      "Division of (5+10j) and (10+20j) complex numbers :  (0.5+0j)\n"
     ]
    }
   ],
   "source": [
    "num1 = 5 + 10j\n",
    "num2 = 10 + 20j\n",
    "\n",
    "print(f\"Addition of {num1} and {num2} complex numbers : \",num1+num2)\n",
    "print(f\"Subtraction of {num1} and {num2} complex numbers : \",num1-num2)\n",
    "print(f\"Multiplication of {num1} and {num2} complex numbers : \",num1*num2)\n",
    "print(f\"Division of {num1} and {num2} complex numbers : \",num1/num2)\n",
    "      \n"
   ]
  },
  {
   "cell_type": "markdown",
   "metadata": {},
   "source": [
    "# 2 :Research on range() functions and its parameters. Create a markdown cell and write in your own words (no copy-paste from google please) what you understand about it. Implement a small program of your choice on the same.¶\n",
    "\n",
    "## syntax:range(start, stop[,step])"
   ]
  },
  {
   "cell_type": "code",
   "execution_count": 10,
   "metadata": {},
   "outputs": [
    {
     "name": "stdout",
     "output_type": "stream",
     "text": [
      "0\n",
      "5\n",
      "10\n",
      "15\n",
      "20\n",
      "25\n",
      "30\n",
      "35\n",
      "40\n",
      "45\n",
      "50\n",
      "55\n",
      "60\n",
      "65\n",
      "70\n",
      "75\n",
      "80\n",
      "85\n",
      "90\n",
      "95\n",
      "100\n"
     ]
    }
   ],
   "source": [
    " # random numbers from 0 to 100 which are divisible by 5\n",
    "for i in range(0,101,5):\n",
    "    print(i)"
   ]
  },
  {
   "cell_type": "markdown",
   "metadata": {},
   "source": [
    "# 3: Consider two numbers. Perform their subtraction and if the result of subtraction is greater than 25, print their multiplication result else print their division result."
   ]
  },
  {
   "cell_type": "code",
   "execution_count": null,
   "metadata": {},
   "outputs": [],
   "source": [
    "a = int(input(\"enter a = \"))\n",
    "b = int(input(\"enter b = \"))\n",
    "c= a-b\n",
    "\n",
    "if c>25:\n",
    "    print(\"Substraction is more than 25 hence product of two numbers is : \",a*b)\n",
    "else:\n",
    "    print(\"Substraction is less than 25 hence division of two numbers is : \",a/b)\n",
    "\n",
    "print(f\"Multiplication of {a} and {b} is {a * b}\")    "
   ]
  },
  {
   "cell_type": "markdown",
   "metadata": {},
   "source": [
    "# 4:Consider a list of 10 elements of integer values. If the number in the list is divisible by 2, print the result as \"square of that number minus 2\".¶"
   ]
  },
  {
   "cell_type": "code",
   "execution_count": 2,
   "metadata": {},
   "outputs": [
    {
     "name": "stdout",
     "output_type": "stream",
     "text": [
      "square of 2 minus 2 :  2\n",
      "square of 4 minus 2 :  14\n",
      "square of 6 minus 2 :  34\n",
      "square of 8 minus 2 :  62\n",
      "square of 10 minus 2 :  98\n"
     ]
    }
   ],
   "source": [
    "lst=[*range(1,11)]\n",
    "\n",
    "for i in lst:\n",
    "    if i%2==0:\n",
    "        print(f\"square of {i} minus 2 : \",i**2 - 2)"
   ]
  },
  {
   "cell_type": "markdown",
   "metadata": {},
   "source": [
    "# 5: Consider a list of 10 elements. Print all the elements in the list which are greater than 7 when that number is divided 2."
   ]
  },
  {
   "cell_type": "code",
   "execution_count": 9,
   "metadata": {},
   "outputs": [
    {
     "name": "stdout",
     "output_type": "stream",
     "text": [
      "15\n",
      "20\n",
      "78\n",
      "66\n",
      "99\n",
      "50\n",
      "25\n"
     ]
    }
   ],
   "source": [
    "lst = [15,20,78,66,99,5,14,50,25,1]\n",
    "for i in lst: \n",
    "    if i/2 > 7:\n",
    "        print(i)\n",
    "    \n"
   ]
  },
  {
   "cell_type": "code",
   "execution_count": 10,
   "metadata": {},
   "outputs": [
    {
     "data": {
      "text/plain": [
       "'C:\\\\Users\\\\WIN 10\\\\Desktop\\\\Ai ML\\\\day4'"
      ]
     },
     "execution_count": 10,
     "metadata": {},
     "output_type": "execute_result"
    }
   ],
   "source": [
    "import os\n",
    "os.getcwd()"
   ]
  },
  {
   "cell_type": "code",
   "execution_count": null,
   "metadata": {},
   "outputs": [],
   "source": []
  }
 ],
 "metadata": {
  "kernelspec": {
   "display_name": "Python 3",
   "language": "python",
   "name": "python3"
  },
  "language_info": {
   "codemirror_mode": {
    "name": "ipython",
    "version": 3
   },
   "file_extension": ".py",
   "mimetype": "text/x-python",
   "name": "python",
   "nbconvert_exporter": "python",
   "pygments_lexer": "ipython3",
   "version": "3.7.6"
  }
 },
 "nbformat": 4,
 "nbformat_minor": 4
}
