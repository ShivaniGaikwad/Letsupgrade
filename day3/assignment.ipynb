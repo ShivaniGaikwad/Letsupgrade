{
 "cells": [
  {
   "cell_type": "markdown",
   "metadata": {},
   "source": [
    "# Question 1\n"
   ]
  },
  {
   "cell_type": "code",
   "execution_count": 3,
   "metadata": {},
   "outputs": [
    {
     "name": "stdout",
     "output_type": "stream",
     "text": [
      "Subtraction is:  (3-2j)\n"
     ]
    }
   ],
   "source": [
    "a = 7 + 6j\n",
    "b = 4 + 8j\n",
    "c = a - b\n",
    "\n",
    "print(\"Subtraction is: \",c)"
   ]
  },
  {
   "cell_type": "markdown",
   "metadata": {},
   "source": [
    "# Question 2"
   ]
  },
  {
   "cell_type": "code",
   "execution_count": 4,
   "metadata": {},
   "outputs": [
    {
     "name": "stdout",
     "output_type": "stream",
     "text": [
      "4th root of 625 is: 5.0\n"
     ]
    }
   ],
   "source": [
    "a = 625\n",
    "x = 4\n",
    "\n",
    "b = a**(1/float(x))\n",
    "\n",
    "print(\"4th root of 625 is:\",b)"
   ]
  },
  {
   "cell_type": "markdown",
   "metadata": {},
   "source": [
    "# Question 3"
   ]
  },
  {
   "cell_type": "code",
   "execution_count": 6,
   "metadata": {},
   "outputs": [
    {
     "name": "stdout",
     "output_type": "stream",
     "text": [
      "Value of x after swapping  3\n",
      "Value of y after swapping  2\n"
     ]
    }
   ],
   "source": [
    "\n",
    "x = 2\n",
    "y = 3\n",
    "\n",
    "temp = x\n",
    "x = y\n",
    "y = temp\n",
    "\n",
    "print(\"Value of x after swapping \",x)\n",
    "print(\"Value of y after swapping \",y)"
   ]
  },
  {
   "cell_type": "markdown",
   "metadata": {},
   "source": [
    "# Question 4"
   ]
  },
  {
   "cell_type": "code",
   "execution_count": 7,
   "metadata": {},
   "outputs": [
    {
     "name": "stdout",
     "output_type": "stream",
     "text": [
      "x =  16\n",
      "y =  8\n"
     ]
    }
   ],
   "source": [
    "x = 8\n",
    "y = 16\n",
    "\n",
    "x,y = y,x\n",
    "print(\"x = \",x)\n",
    "print(\"y = \",y)"
   ]
  },
  {
   "cell_type": "markdown",
   "metadata": {},
   "source": [
    "# Question 5"
   ]
  },
  {
   "cell_type": "code",
   "execution_count": 8,
   "metadata": {},
   "outputs": [
    {
     "name": "stdout",
     "output_type": "stream",
     "text": [
      "Temperature in kelvin  283.5\n",
      "Temperature in celsius 10.0\n"
     ]
    }
   ],
   "source": [
    "F = 50\n",
    "K = 273.5 + ((F - 32.0) * (5.0/9.0))\n",
    "C = ((F - 32.0) * (5.0/9.0))\n",
    "\n",
    "\n",
    "print(\"Temperature in kelvin \",K)\n",
    "print(\"Temperature in celsius\",C)"
   ]
  },
  {
   "cell_type": "markdown",
   "metadata": {},
   "source": [
    "# Question 6"
   ]
  },
  {
   "cell_type": "code",
   "execution_count": 9,
   "metadata": {},
   "outputs": [
    {
     "name": "stdout",
     "output_type": "stream",
     "text": [
      "x, is  <class 'int'>\n",
      "y, is  <class 'float'>\n",
      "a, is  <class 'complex'>\n",
      "b, is  <class 'list'>\n",
      "c, is  <class 'set'>\n",
      "d, is  <class 'tuple'>\n",
      "e, is  <class 'str'>\n"
     ]
    }
   ],
   "source": [
    "x = 2\n",
    "print(\"x, is \",type(a))\n",
    "\n",
    "y = 5.0\n",
    "print(\"y, is \",type(y))\n",
    "\n",
    "a = 3+8j\n",
    "print(\"a, is \",type(a))\n",
    "\n",
    "b = [2,3,6,9]\n",
    "print(\"b, is \",type(b))\n",
    "\n",
    "c = {2,5,6,7}\n",
    "print(\"c, is \",type(c))\n",
    "\n",
    "d = (6,4,5)\n",
    "print(\"d, is \",type(d))\n",
    "\n",
    "e = (\"jalaj\")\n",
    "print(\"e, is \",type(e))"
   ]
  },
  {
   "cell_type": "markdown",
   "metadata": {},
   "source": [
    "# Question 7\n",
    "Github\n",
    "\n",
    "1) Login to github accout.\n",
    "2) Create a repository and name it.\n",
    "3) Click on upload existing file.\n",
    "4) Drag and drop the python file over there.\n",
    "5) Lastely click on commit changes and your file will be uploaded."
   ]
  },
  {
   "cell_type": "code",
   "execution_count": null,
   "metadata": {},
   "outputs": [],
   "source": []
  }
 ],
 "metadata": {
  "kernelspec": {
   "display_name": "Python 3",
   "language": "python",
   "name": "python3"
  },
  "language_info": {
   "codemirror_mode": {
    "name": "ipython",
    "version": 3
   },
   "file_extension": ".py",
   "mimetype": "text/x-python",
   "name": "python",
   "nbconvert_exporter": "python",
   "pygments_lexer": "ipython3",
   "version": "3.7.6"
  }
 },
 "nbformat": 4,
 "nbformat_minor": 4
}
